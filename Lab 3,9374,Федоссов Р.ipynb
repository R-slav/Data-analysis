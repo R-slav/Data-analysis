{
 "cells": [
  {
   "cell_type": "code",
   "execution_count": 1,
   "id": "ef671186",
   "metadata": {},
   "outputs": [],
   "source": [
    "import pandas as pd\n",
    "import matplotlib.pyplot as plt\n",
    "import numpy as np\n",
    "import seaborn as sns\n",
    "\n",
    "from collections import Counter\n",
    "from sklearn.metrics import classification_report\n",
    "from sklearn.model_selection import cross_val_score\n",
    "from sklearn.model_selection import GridSearchCV\n",
    "from sklearn.tree import DecisionTreeClassifier\n",
    "from sklearn.model_selection import train_test_split\n",
    "from sklearn.preprocessing import StandardScaler\n",
    "from sklearn.neighbors import KNeighborsClassifier\n",
    "from sklearn.metrics import accuracy_score, classification_report, confusion_matrix\n",
    "from sklearn.metrics import accuracy_score, precision_score, recall_score, f1_score, roc_auc_score, roc_curve"
   ]
  },
  {
   "cell_type": "markdown",
   "id": "b2ffb21c",
   "metadata": {},
   "source": [
    "# 1. Импорт данных"
   ]
  },
  {
   "cell_type": "code",
   "execution_count": 2,
   "id": "58c670ba",
   "metadata": {},
   "outputs": [],
   "source": [
    "# Датафрейм df_train_data был предобработан во 2 ЛР.\n",
    "df_train_data = pd.read_csv(\"fixed_train_data.csv\")\n",
    "df_train_data = df_train_data.drop(columns=\"sc_diag\")\n",
    "\n",
    "df_test_data = pd.read_csv(\"test.csv.xls\")"
   ]
  },
  {
   "cell_type": "markdown",
   "id": "6b84e68a",
   "metadata": {},
   "source": [
    "# 2. Предобработка данных"
   ]
  },
  {
   "cell_type": "code",
   "execution_count": 3,
   "id": "1ac8e82e",
   "metadata": {},
   "outputs": [],
   "source": [
    "df_test_data = df_test_data.drop(columns=\"id\")"
   ]
  },
  {
   "cell_type": "markdown",
   "id": "5d8f6dd8",
   "metadata": {},
   "source": [
    "# 3. Разделение данных на обучающую и тестовую выборки "
   ]
  },
  {
   "cell_type": "code",
   "execution_count": 4,
   "id": "e2736df9",
   "metadata": {
    "scrolled": true
   },
   "outputs": [],
   "source": [
    "y = df_train_data[\"price_range\"]\n",
    "x = df_train_data.drop(columns=\"price_range\")"
   ]
  },
  {
   "cell_type": "code",
   "execution_count": 5,
   "id": "773ca813",
   "metadata": {},
   "outputs": [],
   "source": [
    "X_train, X_test, y_train, y_test = train_test_split(x, y, test_size=0.3, random_state=17)"
   ]
  },
  {
   "cell_type": "markdown",
   "id": "2e341c5b",
   "metadata": {},
   "source": [
    "# 4. Создание моделей"
   ]
  },
  {
   "cell_type": "code",
   "execution_count": 6,
   "id": "e91e51f2",
   "metadata": {},
   "outputs": [],
   "source": [
    "d_tree = DecisionTreeClassifier(random_state=18)"
   ]
  },
  {
   "cell_type": "code",
   "execution_count": 7,
   "id": "5e2db231",
   "metadata": {},
   "outputs": [],
   "source": [
    "knn = KNeighborsClassifier()"
   ]
  },
  {
   "cell_type": "markdown",
   "id": "f8eff1ff",
   "metadata": {},
   "source": [
    "# 5. Обучение моделей"
   ]
  },
  {
   "cell_type": "markdown",
   "id": "7adc9c4f",
   "metadata": {},
   "source": [
    "## 5.1. Настройка гиперпараметров"
   ]
  },
  {
   "cell_type": "code",
   "execution_count": 8,
   "id": "bcc2ce3e",
   "metadata": {},
   "outputs": [],
   "source": [
    "# Указываем какие параметры будут тестироваться\n",
    "tree_params = {\"max_depth\": np.arange(1, 11)}\n",
    "knn_params = {\"n_neighbors\": range(5, 30, 5)}"
   ]
  },
  {
   "cell_type": "code",
   "execution_count": 9,
   "id": "64c07362",
   "metadata": {},
   "outputs": [],
   "source": [
    "# Для каждого алгоритма получаем модель, которая показала наилучшие результаты.\n",
    "tree_grid = GridSearchCV(d_tree, tree_params, cv=5)\n",
    "knn_grid = GridSearchCV(knn, knn_params, cv=5)"
   ]
  },
  {
   "cell_type": "markdown",
   "id": "fac723c6",
   "metadata": {},
   "source": [
    "## 5.2. Тренировка моедлей на обучающей выборке"
   ]
  },
  {
   "cell_type": "code",
   "execution_count": 10,
   "id": "006483a5",
   "metadata": {},
   "outputs": [
    {
     "name": "stdout",
     "output_type": "stream",
     "text": [
      "CPU times: user 650 ms, sys: 5.71 ms, total: 655 ms\n",
      "Wall time: 654 ms\n"
     ]
    }
   ],
   "source": [
    "%%time\n",
    "tree_grid.fit(X_train, y_train);"
   ]
  },
  {
   "cell_type": "code",
   "execution_count": 11,
   "id": "9876d941",
   "metadata": {
    "scrolled": true
   },
   "outputs": [
    {
     "data": {
      "text/plain": [
       "(0.8318728410773186, {'max_depth': 7})"
      ]
     },
     "execution_count": 11,
     "metadata": {},
     "output_type": "execute_result"
    }
   ],
   "source": [
    "# Лучший результат модели дерева решений \n",
    "tree_grid.best_score_,  tree_grid.best_params_"
   ]
  },
  {
   "cell_type": "code",
   "execution_count": 12,
   "id": "ce9e466a",
   "metadata": {},
   "outputs": [
    {
     "name": "stdout",
     "output_type": "stream",
     "text": [
      "CPU times: user 2.72 s, sys: 391 ms, total: 3.11 s\n",
      "Wall time: 791 ms\n"
     ]
    }
   ],
   "source": [
    "%%time\n",
    "knn_grid.fit(X_train, y_train);"
   ]
  },
  {
   "cell_type": "code",
   "execution_count": 13,
   "id": "f75b607c",
   "metadata": {},
   "outputs": [
    {
     "data": {
      "text/plain": [
       "(0.9256785185569955, {'n_neighbors': 25})"
      ]
     },
     "execution_count": 13,
     "metadata": {},
     "output_type": "execute_result"
    }
   ],
   "source": [
    "# Лучший результат модели кнн\n",
    "knn_grid.best_score_, knn_grid.best_params_"
   ]
  },
  {
   "cell_type": "markdown",
   "id": "2890a8ef",
   "metadata": {},
   "source": [
    "# 6. Оценка моделей на тестовой выборке"
   ]
  },
  {
   "cell_type": "markdown",
   "id": "af9d7fb0",
   "metadata": {},
   "source": [
    "## 6.1. Предсказание для тестовой выборки"
   ]
  },
  {
   "cell_type": "code",
   "execution_count": 14,
   "id": "f6a372ff",
   "metadata": {},
   "outputs": [],
   "source": [
    "knn_pred = knn_grid.predict(X_test)\n",
    "tree_pred = tree_grid.predict(X_test)"
   ]
  },
  {
   "cell_type": "markdown",
   "id": "ae083ab6",
   "metadata": {},
   "source": [
    "## 6.2. Оценка сбалансированности классов"
   ]
  },
  {
   "cell_type": "code",
   "execution_count": 15,
   "id": "dd22e950",
   "metadata": {
    "scrolled": true
   },
   "outputs": [
    {
     "data": {
      "image/png": "[encoded data removed]",
      "text/plain": [
       "<Figure size 1000x600 with 1 Axes>"
      ]
     },
     "metadata": {},
     "output_type": "display_data"
    }
   ],
   "source": [
    "class_counts = Counter(y_test)\n",
    "\n",
    "classes = list(class_counts.keys())\n",
    "frequencies = list(class_counts.values())\n",
    "\n",
    "plt.figure(figsize=(10, 6))\n",
    "ax = sns.barplot(x=classes, y=frequencies, palette=\"viridis\")\n",
    "for container in ax.containers:\n",
    "    ax.bar_label(container, fmt='%d', label_type='edge', padding=3)\n",
    "plt.xlabel(\"Классы\")\n",
    "plt.ylabel(\"Частота\")\n",
    "plt.title(\"Частота встречаемости каждого класса\")\n",
    "plt.show()"
   ]
  },
  {
   "cell_type": "markdown",
   "id": "6153d8d6",
   "metadata": {},
   "source": [
    "Классы распределены достаточно равномерно. Разница между количеством экземпляров наименьшего и наибольшего класса составляет всего 32 экземпляра, что относительно небольшая разница при общем количестве данных."
   ]
  },
  {
   "cell_type": "markdown",
   "id": "83273515",
   "metadata": {},
   "source": [
    "## 6.3. Матрица ошибок"
   ]
  },
  {
   "cell_type": "code",
   "execution_count": 16,
   "id": "7b41f4d8",
   "metadata": {
    "scrolled": false
   },
   "outputs": [
    {
     "data": {
      "image/png": "[encoded data removed]",
      "text/plain": [
       "<Figure size 600x400 with 2 Axes>"
      ]
     },
     "metadata": {},
     "output_type": "display_data"
    }
   ],
   "source": [
    "cm = confusion_matrix(y_test, knn_pred)\n",
    "\n",
    "plt.figure(figsize=(6, 4))\n",
    "sns.heatmap(cm, annot=True, fmt='d', cmap='Blues')\n",
    "plt.xlabel(\"Предсказания\")\n",
    "plt.ylabel(\"Истинные значения\")\n",
    "plt.title(\"Матрица ошибок\")\n",
    "plt.show()"
   ]
  },
  {
   "cell_type": "markdown",
   "id": "1fe3ed28",
   "metadata": {},
   "source": [
    "## 6.4. Оценки"
   ]
  },
  {
   "cell_type": "markdown",
   "id": "d5a69776",
   "metadata": {},
   "source": [
    "### Оценки предсказаний модели(knn)"
   ]
  },
  {
   "cell_type": "code",
   "execution_count": 17,
   "id": "0d0cff90",
   "metadata": {
    "scrolled": true
   },
   "outputs": [
    {
     "name": "stdout",
     "output_type": "stream",
     "text": [
      "              precision    recall  f1-score   support\n",
      "\n",
      "           0       0.90      0.99      0.94       141\n",
      "           1       0.95      0.86      0.90       167\n",
      "           2       0.84      0.91      0.88       135\n",
      "           3       0.96      0.90      0.93       151\n",
      "\n",
      "    accuracy                           0.91       594\n",
      "   macro avg       0.91      0.91      0.91       594\n",
      "weighted avg       0.91      0.91      0.91       594\n",
      "\n"
     ]
    }
   ],
   "source": [
    "print(classification_report(y_test, knn_pred))"
   ]
  },
  {
   "cell_type": "markdown",
   "id": "086319df",
   "metadata": {},
   "source": [
    "### Оценки предсказаний модели(decision tree)"
   ]
  },
  {
   "cell_type": "code",
   "execution_count": 18,
   "id": "f05c6502",
   "metadata": {},
   "outputs": [
    {
     "name": "stdout",
     "output_type": "stream",
     "text": [
      "              precision    recall  f1-score   support\n",
      "\n",
      "           0       0.84      0.91      0.88       141\n",
      "           1       0.80      0.75      0.78       167\n",
      "           2       0.74      0.79      0.76       135\n",
      "           3       0.93      0.87      0.90       151\n",
      "\n",
      "    accuracy                           0.83       594\n",
      "   macro avg       0.83      0.83      0.83       594\n",
      "weighted avg       0.83      0.83      0.83       594\n",
      "\n"
     ]
    }
   ],
   "source": [
    "print(classification_report(y_test, tree_pred))"
   ]
  },
  {
   "cell_type": "markdown",
   "id": "39f2b135",
   "metadata": {},
   "source": [
    "### Объяснение результатов"
   ]
  },
  {
   "cell_type": "markdown",
   "id": "cf454e31",
   "metadata": {},
   "source": [
    "### Анализ отчетов о классификации\n",
    "\n",
    "Функция `classification_report` выводит таблицу, в которой рассчитываются метрики точности (precision), полноты (recall), значения F1 (F1-score) и поддержка (support) для каждого класса. Также предоставляются усредненные метрики: micro, macro и weighted averages.\n",
    "\n",
    "#### Определения метрик\n",
    "\n",
    "- **Precision (точность)**: Доля объектов, предсказанных классификатором как положительные и при этом действительно являющихся положительными.\n",
    "\n",
    "- **Recall (полнота)**: Доля объектов, истинно положительных, предсказанных классификатором как положительные.\n",
    "\n",
    "- **F1-score**: Гармоническое среднее между точностью и полнотой. F1-score достигает максимума, когда и полнота, и точность равны единице, и стремится к нулю, если одно из значений близко к нулю.\n",
    "\n",
    "- **Support (поддержка)**: Количество истинных примеров каждого класса в тестовом наборе данных.\n",
    "\n",
    "#### Усредненные метрики\n",
    "\n",
    "- **Micro-average (микро-среднее)**: Микро-средняя точность (precision), полнота (recall) и значение F1 рассчитываются путем суммирования истинных положительных, ложноположительных и ложноотрицательных значений для всех классов и затем вычисления метрик на основе этих сумм. В многоклассовых задачах микро-средние метрики совпадают с общей точностью (accuracy). Микро-средние метрики и accuracy зависят от сбалансированности классов, то есть при значительном дисбалансе классов эти метрики могут давать искаженное представление о производительности модели.\n",
    "\n",
    "- **Macro-average (макро-среднее)**: Среднее значение метрик для каждого класса, взятое по всем классам. Каждому классу придается равный вес, независимо от его частоты в данных. Макро-средние метрики не зависят от сбалансированности классов и лучше отражают производительность модели по каждому классу отдельно.\n",
    "\n",
    "- **Weighted-average (взвешенное среднее)**: Рассчитывается аналогично макро-среднему, но каждое значение метрики взвешивается по количеству истинных образцов каждого класса. Это позволяет учитывать дисбаланс классов, предоставляя более точное представление о производительности модели на несбалансированных данных.\n",
    "\n",
    "Поскольку наши классы сбалансированы, метрика точности (accuracy) является надежным показателем производительности модели. Более того, все значения усредненных метрик (micro, macro и weighted) оказались одинаковыми, что дополнительно подтверждает сбалансированность данных и согласованность метрик.\n",
    "\n",
    "Таким образом, для оценки производительности модели в данном случае достаточно использовать метрику accuracy, поскольку она корректно отражает общую точность модели при сбалансированных классах.\n"
   ]
  },
  {
   "cell_type": "markdown",
   "id": "101107a2",
   "metadata": {},
   "source": [
    "# 7. Предсказания для файла test "
   ]
  },
  {
   "cell_type": "markdown",
   "id": "6ed5fc9a",
   "metadata": {},
   "source": [
    "Выполним задание, описанное в описании датасета: \"Требуется спрогнозировать, в какой ценовой сегмент следует классифицировать новое устройство\". Новые устройства были предоставлены в файле test.csv"
   ]
  },
  {
   "cell_type": "markdown",
   "id": "e1724d90",
   "metadata": {},
   "source": [
    "Используем модель KNN, т.к. ее результаты были лучше:"
   ]
  },
  {
   "cell_type": "code",
   "execution_count": 19,
   "id": "b3b9c482",
   "metadata": {},
   "outputs": [],
   "source": [
    "df_test_data[\"price_range\"] = knn_grid.predict(df_test_data)"
   ]
  },
  {
   "cell_type": "code",
   "execution_count": 20,
   "id": "23f21b01",
   "metadata": {
    "scrolled": true
   },
   "outputs": [
    {
     "data": {
      "text/html": [
       "<div>\n",
       "<style scoped>\n",
       "    .dataframe tbody tr th:only-of-type {\n",
       "        vertical-align: middle;\n",
       "    }\n",
       "\n",
       "    .dataframe tbody tr th {\n",
       "        vertical-align: top;\n",
       "    }\n",
       "\n",
       "    .dataframe thead th {\n",
       "        text-align: right;\n",
       "    }\n",
       "</style>\n",
       "<table border=\"1\" class=\"dataframe\">\n",
       "  <thead>\n",
       "    <tr style=\"text-align: right;\">\n",
       "      <th></th>\n",
       "      <th>battery_power</th>\n",
       "      <th>blue</th>\n",
       "      <th>clock_speed</th>\n",
       "      <th>dual_sim</th>\n",
       "      <th>fc</th>\n",
       "      <th>four_g</th>\n",
       "      <th>int_memory</th>\n",
       "      <th>m_dep</th>\n",
       "      <th>mobile_wt</th>\n",
       "      <th>n_cores</th>\n",
       "      <th>...</th>\n",
       "      <th>px_height</th>\n",
       "      <th>px_width</th>\n",
       "      <th>ram</th>\n",
       "      <th>sc_h</th>\n",
       "      <th>sc_w</th>\n",
       "      <th>talk_time</th>\n",
       "      <th>three_g</th>\n",
       "      <th>touch_screen</th>\n",
       "      <th>wifi</th>\n",
       "      <th>price_range</th>\n",
       "    </tr>\n",
       "  </thead>\n",
       "  <tbody>\n",
       "    <tr>\n",
       "      <th>0</th>\n",
       "      <td>1043</td>\n",
       "      <td>1</td>\n",
       "      <td>1.8</td>\n",
       "      <td>1</td>\n",
       "      <td>14</td>\n",
       "      <td>0</td>\n",
       "      <td>5</td>\n",
       "      <td>0.1</td>\n",
       "      <td>193</td>\n",
       "      <td>3</td>\n",
       "      <td>...</td>\n",
       "      <td>226</td>\n",
       "      <td>1412</td>\n",
       "      <td>3476</td>\n",
       "      <td>12</td>\n",
       "      <td>7</td>\n",
       "      <td>2</td>\n",
       "      <td>0</td>\n",
       "      <td>1</td>\n",
       "      <td>0</td>\n",
       "      <td>3</td>\n",
       "    </tr>\n",
       "    <tr>\n",
       "      <th>1</th>\n",
       "      <td>841</td>\n",
       "      <td>1</td>\n",
       "      <td>0.5</td>\n",
       "      <td>1</td>\n",
       "      <td>4</td>\n",
       "      <td>1</td>\n",
       "      <td>61</td>\n",
       "      <td>0.8</td>\n",
       "      <td>191</td>\n",
       "      <td>5</td>\n",
       "      <td>...</td>\n",
       "      <td>746</td>\n",
       "      <td>857</td>\n",
       "      <td>3895</td>\n",
       "      <td>6</td>\n",
       "      <td>0</td>\n",
       "      <td>7</td>\n",
       "      <td>1</td>\n",
       "      <td>0</td>\n",
       "      <td>0</td>\n",
       "      <td>3</td>\n",
       "    </tr>\n",
       "    <tr>\n",
       "      <th>2</th>\n",
       "      <td>1807</td>\n",
       "      <td>1</td>\n",
       "      <td>2.8</td>\n",
       "      <td>0</td>\n",
       "      <td>1</td>\n",
       "      <td>0</td>\n",
       "      <td>27</td>\n",
       "      <td>0.9</td>\n",
       "      <td>186</td>\n",
       "      <td>3</td>\n",
       "      <td>...</td>\n",
       "      <td>1270</td>\n",
       "      <td>1366</td>\n",
       "      <td>2396</td>\n",
       "      <td>17</td>\n",
       "      <td>10</td>\n",
       "      <td>10</td>\n",
       "      <td>0</td>\n",
       "      <td>1</td>\n",
       "      <td>1</td>\n",
       "      <td>2</td>\n",
       "    </tr>\n",
       "    <tr>\n",
       "      <th>3</th>\n",
       "      <td>1546</td>\n",
       "      <td>0</td>\n",
       "      <td>0.5</td>\n",
       "      <td>1</td>\n",
       "      <td>18</td>\n",
       "      <td>1</td>\n",
       "      <td>25</td>\n",
       "      <td>0.5</td>\n",
       "      <td>96</td>\n",
       "      <td>8</td>\n",
       "      <td>...</td>\n",
       "      <td>295</td>\n",
       "      <td>1752</td>\n",
       "      <td>3893</td>\n",
       "      <td>10</td>\n",
       "      <td>0</td>\n",
       "      <td>7</td>\n",
       "      <td>1</td>\n",
       "      <td>1</td>\n",
       "      <td>0</td>\n",
       "      <td>3</td>\n",
       "    </tr>\n",
       "    <tr>\n",
       "      <th>4</th>\n",
       "      <td>1434</td>\n",
       "      <td>0</td>\n",
       "      <td>1.4</td>\n",
       "      <td>0</td>\n",
       "      <td>11</td>\n",
       "      <td>1</td>\n",
       "      <td>49</td>\n",
       "      <td>0.5</td>\n",
       "      <td>108</td>\n",
       "      <td>6</td>\n",
       "      <td>...</td>\n",
       "      <td>749</td>\n",
       "      <td>810</td>\n",
       "      <td>1773</td>\n",
       "      <td>15</td>\n",
       "      <td>8</td>\n",
       "      <td>7</td>\n",
       "      <td>1</td>\n",
       "      <td>0</td>\n",
       "      <td>1</td>\n",
       "      <td>1</td>\n",
       "    </tr>\n",
       "    <tr>\n",
       "      <th>...</th>\n",
       "      <td>...</td>\n",
       "      <td>...</td>\n",
       "      <td>...</td>\n",
       "      <td>...</td>\n",
       "      <td>...</td>\n",
       "      <td>...</td>\n",
       "      <td>...</td>\n",
       "      <td>...</td>\n",
       "      <td>...</td>\n",
       "      <td>...</td>\n",
       "      <td>...</td>\n",
       "      <td>...</td>\n",
       "      <td>...</td>\n",
       "      <td>...</td>\n",
       "      <td>...</td>\n",
       "      <td>...</td>\n",
       "      <td>...</td>\n",
       "      <td>...</td>\n",
       "      <td>...</td>\n",
       "      <td>...</td>\n",
       "      <td>...</td>\n",
       "    </tr>\n",
       "    <tr>\n",
       "      <th>995</th>\n",
       "      <td>1700</td>\n",
       "      <td>1</td>\n",
       "      <td>1.9</td>\n",
       "      <td>0</td>\n",
       "      <td>0</td>\n",
       "      <td>1</td>\n",
       "      <td>54</td>\n",
       "      <td>0.5</td>\n",
       "      <td>170</td>\n",
       "      <td>7</td>\n",
       "      <td>...</td>\n",
       "      <td>644</td>\n",
       "      <td>913</td>\n",
       "      <td>2121</td>\n",
       "      <td>14</td>\n",
       "      <td>8</td>\n",
       "      <td>15</td>\n",
       "      <td>1</td>\n",
       "      <td>1</td>\n",
       "      <td>0</td>\n",
       "      <td>2</td>\n",
       "    </tr>\n",
       "    <tr>\n",
       "      <th>996</th>\n",
       "      <td>609</td>\n",
       "      <td>0</td>\n",
       "      <td>1.8</td>\n",
       "      <td>1</td>\n",
       "      <td>0</td>\n",
       "      <td>0</td>\n",
       "      <td>13</td>\n",
       "      <td>0.9</td>\n",
       "      <td>186</td>\n",
       "      <td>4</td>\n",
       "      <td>...</td>\n",
       "      <td>1152</td>\n",
       "      <td>1632</td>\n",
       "      <td>1933</td>\n",
       "      <td>8</td>\n",
       "      <td>1</td>\n",
       "      <td>19</td>\n",
       "      <td>0</td>\n",
       "      <td>1</td>\n",
       "      <td>1</td>\n",
       "      <td>1</td>\n",
       "    </tr>\n",
       "    <tr>\n",
       "      <th>997</th>\n",
       "      <td>1185</td>\n",
       "      <td>0</td>\n",
       "      <td>1.4</td>\n",
       "      <td>0</td>\n",
       "      <td>1</td>\n",
       "      <td>1</td>\n",
       "      <td>8</td>\n",
       "      <td>0.5</td>\n",
       "      <td>80</td>\n",
       "      <td>1</td>\n",
       "      <td>...</td>\n",
       "      <td>477</td>\n",
       "      <td>825</td>\n",
       "      <td>1223</td>\n",
       "      <td>5</td>\n",
       "      <td>0</td>\n",
       "      <td>14</td>\n",
       "      <td>1</td>\n",
       "      <td>0</td>\n",
       "      <td>0</td>\n",
       "      <td>0</td>\n",
       "    </tr>\n",
       "    <tr>\n",
       "      <th>998</th>\n",
       "      <td>1533</td>\n",
       "      <td>1</td>\n",
       "      <td>0.5</td>\n",
       "      <td>1</td>\n",
       "      <td>0</td>\n",
       "      <td>0</td>\n",
       "      <td>50</td>\n",
       "      <td>0.4</td>\n",
       "      <td>171</td>\n",
       "      <td>2</td>\n",
       "      <td>...</td>\n",
       "      <td>38</td>\n",
       "      <td>832</td>\n",
       "      <td>2509</td>\n",
       "      <td>15</td>\n",
       "      <td>11</td>\n",
       "      <td>6</td>\n",
       "      <td>0</td>\n",
       "      <td>1</td>\n",
       "      <td>0</td>\n",
       "      <td>2</td>\n",
       "    </tr>\n",
       "    <tr>\n",
       "      <th>999</th>\n",
       "      <td>1270</td>\n",
       "      <td>1</td>\n",
       "      <td>0.5</td>\n",
       "      <td>0</td>\n",
       "      <td>4</td>\n",
       "      <td>1</td>\n",
       "      <td>35</td>\n",
       "      <td>0.1</td>\n",
       "      <td>140</td>\n",
       "      <td>6</td>\n",
       "      <td>...</td>\n",
       "      <td>457</td>\n",
       "      <td>608</td>\n",
       "      <td>2828</td>\n",
       "      <td>9</td>\n",
       "      <td>2</td>\n",
       "      <td>3</td>\n",
       "      <td>1</td>\n",
       "      <td>0</td>\n",
       "      <td>1</td>\n",
       "      <td>2</td>\n",
       "    </tr>\n",
       "  </tbody>\n",
       "</table>\n",
       "<p>1000 rows × 21 columns</p>\n",
       "</div>"
      ],
      "text/plain": [
       "     battery_power  blue  clock_speed  dual_sim  fc  four_g  int_memory  \\\n",
       "0             1043     1          1.8         1  14       0           5   \n",
       "1              841     1          0.5         1   4       1          61   \n",
       "2             1807     1          2.8         0   1       0          27   \n",
       "3             1546     0          0.5         1  18       1          25   \n",
       "4             1434     0          1.4         0  11       1          49   \n",
       "..             ...   ...          ...       ...  ..     ...         ...   \n",
       "995           1700     1          1.9         0   0       1          54   \n",
       "996            609     0          1.8         1   0       0          13   \n",
       "997           1185     0          1.4         0   1       1           8   \n",
       "998           1533     1          0.5         1   0       0          50   \n",
       "999           1270     1          0.5         0   4       1          35   \n",
       "\n",
       "     m_dep  mobile_wt  n_cores  ...  px_height  px_width   ram  sc_h  sc_w  \\\n",
       "0      0.1        193        3  ...        226      1412  3476    12     7   \n",
       "1      0.8        191        5  ...        746       857  3895     6     0   \n",
       "2      0.9        186        3  ...       1270      1366  2396    17    10   \n",
       "3      0.5         96        8  ...        295      1752  3893    10     0   \n",
       "4      0.5        108        6  ...        749       810  1773    15     8   \n",
       "..     ...        ...      ...  ...        ...       ...   ...   ...   ...   \n",
       "995    0.5        170        7  ...        644       913  2121    14     8   \n",
       "996    0.9        186        4  ...       1152      1632  1933     8     1   \n",
       "997    0.5         80        1  ...        477       825  1223     5     0   \n",
       "998    0.4        171        2  ...         38       832  2509    15    11   \n",
       "999    0.1        140        6  ...        457       608  2828     9     2   \n",
       "\n",
       "     talk_time  three_g  touch_screen  wifi  price_range  \n",
       "0            2        0             1     0            3  \n",
       "1            7        1             0     0            3  \n",
       "2           10        0             1     1            2  \n",
       "3            7        1             1     0            3  \n",
       "4            7        1             0     1            1  \n",
       "..         ...      ...           ...   ...          ...  \n",
       "995         15        1             1     0            2  \n",
       "996         19        0             1     1            1  \n",
       "997         14        1             0     0            0  \n",
       "998          6        0             1     0            2  \n",
       "999          3        1             0     1            2  \n",
       "\n",
       "[1000 rows x 21 columns]"
      ]
     },
     "execution_count": 20,
     "metadata": {},
     "output_type": "execute_result"
    }
   ],
   "source": [
    "df_test_data"
   ]
  },
  {
   "cell_type": "markdown",
   "id": "fec373a0",
   "metadata": {},
   "source": [
    "В результате, мы классифицировали телефоны компании по ценовым диапазонам с точностью 91%."
   ]
  }
 ],
 "metadata": {
  "kernelspec": {
   "display_name": "Python 3 (ipykernel)",
   "language": "python",
   "name": "python3"
  },
  "language_info": {
   "codemirror_mode": {
    "name": "ipython",
    "version": 3
   },
   "file_extension": ".py",
   "mimetype": "text/x-python",
   "name": "python",
   "nbconvert_exporter": "python",
   "pygments_lexer": "ipython3",
   "version": "3.11.5"
  }
 },
 "nbformat": 4,
 "nbformat_minor": 5
}
